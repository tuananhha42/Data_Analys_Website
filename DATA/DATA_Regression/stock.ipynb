{
 "cells": [
  {
   "cell_type": "code",
   "execution_count": 37,
   "metadata": {},
   "outputs": [],
   "source": [
    "import pandas as pd \n",
    "import numpy as np"
   ]
  },
  {
   "cell_type": "code",
   "execution_count": 38,
   "metadata": {},
   "outputs": [
    {
     "data": {
      "text/html": [
       "<div>\n",
       "<style scoped>\n",
       "    .dataframe tbody tr th:only-of-type {\n",
       "        vertical-align: middle;\n",
       "    }\n",
       "\n",
       "    .dataframe tbody tr th {\n",
       "        vertical-align: top;\n",
       "    }\n",
       "\n",
       "    .dataframe thead th {\n",
       "        text-align: right;\n",
       "    }\n",
       "</style>\n",
       "<table border=\"1\" class=\"dataframe\">\n",
       "  <thead>\n",
       "    <tr style=\"text-align: right;\">\n",
       "      <th></th>\n",
       "      <th>Date</th>\n",
       "      <th>Open</th>\n",
       "      <th>High</th>\n",
       "      <th>Low</th>\n",
       "      <th>Close</th>\n",
       "      <th>Adj Close</th>\n",
       "      <th>Volume</th>\n",
       "    </tr>\n",
       "  </thead>\n",
       "  <tbody>\n",
       "    <tr>\n",
       "      <th>0</th>\n",
       "      <td>2014-03-18T00:00:00.000</td>\n",
       "      <td>18.782143</td>\n",
       "      <td>18.998928</td>\n",
       "      <td>18.757143</td>\n",
       "      <td>18.978571</td>\n",
       "      <td>16.716616</td>\n",
       "      <td>209647200</td>\n",
       "    </tr>\n",
       "    <tr>\n",
       "      <th>1</th>\n",
       "      <td>2014-03-19T00:00:00.000</td>\n",
       "      <td>19.009287</td>\n",
       "      <td>19.151428</td>\n",
       "      <td>18.892857</td>\n",
       "      <td>18.973572</td>\n",
       "      <td>16.712214</td>\n",
       "      <td>224756000</td>\n",
       "    </tr>\n",
       "    <tr>\n",
       "      <th>2</th>\n",
       "      <td>2014-03-20T00:00:00.000</td>\n",
       "      <td>18.924643</td>\n",
       "      <td>19.023930</td>\n",
       "      <td>18.833929</td>\n",
       "      <td>18.882143</td>\n",
       "      <td>16.631680</td>\n",
       "      <td>208398400</td>\n",
       "    </tr>\n",
       "    <tr>\n",
       "      <th>3</th>\n",
       "      <td>2014-03-21T00:00:00.000</td>\n",
       "      <td>18.997499</td>\n",
       "      <td>19.062500</td>\n",
       "      <td>18.797501</td>\n",
       "      <td>19.031071</td>\n",
       "      <td>16.762859</td>\n",
       "      <td>374046400</td>\n",
       "    </tr>\n",
       "    <tr>\n",
       "      <th>4</th>\n",
       "      <td>2014-03-24T00:00:00.000</td>\n",
       "      <td>19.229286</td>\n",
       "      <td>19.303572</td>\n",
       "      <td>19.109285</td>\n",
       "      <td>19.256786</td>\n",
       "      <td>16.961672</td>\n",
       "      <td>355700800</td>\n",
       "    </tr>\n",
       "    <tr>\n",
       "      <th>...</th>\n",
       "      <td>...</td>\n",
       "      <td>...</td>\n",
       "      <td>...</td>\n",
       "      <td>...</td>\n",
       "      <td>...</td>\n",
       "      <td>...</td>\n",
       "      <td>...</td>\n",
       "    </tr>\n",
       "    <tr>\n",
       "      <th>2512</th>\n",
       "      <td>2024-03-11T00:00:00.000</td>\n",
       "      <td>172.940002</td>\n",
       "      <td>174.380005</td>\n",
       "      <td>172.050003</td>\n",
       "      <td>172.750000</td>\n",
       "      <td>172.750000</td>\n",
       "      <td>60139500</td>\n",
       "    </tr>\n",
       "    <tr>\n",
       "      <th>2513</th>\n",
       "      <td>2024-03-12T00:00:00.000</td>\n",
       "      <td>173.149994</td>\n",
       "      <td>174.029999</td>\n",
       "      <td>171.009995</td>\n",
       "      <td>173.229996</td>\n",
       "      <td>173.229996</td>\n",
       "      <td>59825400</td>\n",
       "    </tr>\n",
       "    <tr>\n",
       "      <th>2514</th>\n",
       "      <td>2024-03-13T00:00:00.000</td>\n",
       "      <td>172.770004</td>\n",
       "      <td>173.190002</td>\n",
       "      <td>170.759995</td>\n",
       "      <td>171.130005</td>\n",
       "      <td>171.130005</td>\n",
       "      <td>52488700</td>\n",
       "    </tr>\n",
       "    <tr>\n",
       "      <th>2515</th>\n",
       "      <td>2024-03-14T00:00:00.000</td>\n",
       "      <td>172.910004</td>\n",
       "      <td>174.309998</td>\n",
       "      <td>172.050003</td>\n",
       "      <td>173.000000</td>\n",
       "      <td>173.000000</td>\n",
       "      <td>72913500</td>\n",
       "    </tr>\n",
       "    <tr>\n",
       "      <th>2516</th>\n",
       "      <td>2024-03-15T00:00:00.000</td>\n",
       "      <td>171.169998</td>\n",
       "      <td>172.619995</td>\n",
       "      <td>170.289993</td>\n",
       "      <td>172.619995</td>\n",
       "      <td>172.619995</td>\n",
       "      <td>121664700</td>\n",
       "    </tr>\n",
       "  </tbody>\n",
       "</table>\n",
       "<p>2517 rows × 7 columns</p>\n",
       "</div>"
      ],
      "text/plain": [
       "                         Date        Open        High         Low       Close  \\\n",
       "0     2014-03-18T00:00:00.000   18.782143   18.998928   18.757143   18.978571   \n",
       "1     2014-03-19T00:00:00.000   19.009287   19.151428   18.892857   18.973572   \n",
       "2     2014-03-20T00:00:00.000   18.924643   19.023930   18.833929   18.882143   \n",
       "3     2014-03-21T00:00:00.000   18.997499   19.062500   18.797501   19.031071   \n",
       "4     2014-03-24T00:00:00.000   19.229286   19.303572   19.109285   19.256786   \n",
       "...                       ...         ...         ...         ...         ...   \n",
       "2512  2024-03-11T00:00:00.000  172.940002  174.380005  172.050003  172.750000   \n",
       "2513  2024-03-12T00:00:00.000  173.149994  174.029999  171.009995  173.229996   \n",
       "2514  2024-03-13T00:00:00.000  172.770004  173.190002  170.759995  171.130005   \n",
       "2515  2024-03-14T00:00:00.000  172.910004  174.309998  172.050003  173.000000   \n",
       "2516  2024-03-15T00:00:00.000  171.169998  172.619995  170.289993  172.619995   \n",
       "\n",
       "       Adj Close     Volume  \n",
       "0      16.716616  209647200  \n",
       "1      16.712214  224756000  \n",
       "2      16.631680  208398400  \n",
       "3      16.762859  374046400  \n",
       "4      16.961672  355700800  \n",
       "...          ...        ...  \n",
       "2512  172.750000   60139500  \n",
       "2513  173.229996   59825400  \n",
       "2514  171.130005   52488700  \n",
       "2515  173.000000   72913500  \n",
       "2516  172.619995  121664700  \n",
       "\n",
       "[2517 rows x 7 columns]"
      ]
     },
     "execution_count": 38,
     "metadata": {},
     "output_type": "execute_result"
    }
   ],
   "source": [
    "df = pd.read_csv('stock.csv')\n",
    "df"
   ]
  },
  {
   "cell_type": "code",
   "execution_count": 39,
   "metadata": {},
   "outputs": [
    {
     "data": {
      "text/plain": [
       "Date         0\n",
       "Open         0\n",
       "High         0\n",
       "Low          0\n",
       "Close        0\n",
       "Adj Close    0\n",
       "Volume       0\n",
       "dtype: int64"
      ]
     },
     "execution_count": 39,
     "metadata": {},
     "output_type": "execute_result"
    }
   ],
   "source": [
    "count_null = df.isnull().sum()\n",
    "count_null"
   ]
  },
  {
   "cell_type": "code",
   "execution_count": 40,
   "metadata": {},
   "outputs": [
    {
     "data": {
      "text/html": [
       "<div>\n",
       "<style scoped>\n",
       "    .dataframe tbody tr th:only-of-type {\n",
       "        vertical-align: middle;\n",
       "    }\n",
       "\n",
       "    .dataframe tbody tr th {\n",
       "        vertical-align: top;\n",
       "    }\n",
       "\n",
       "    .dataframe thead th {\n",
       "        text-align: right;\n",
       "    }\n",
       "</style>\n",
       "<table border=\"1\" class=\"dataframe\">\n",
       "  <thead>\n",
       "    <tr style=\"text-align: right;\">\n",
       "      <th></th>\n",
       "      <th>Open</th>\n",
       "      <th>High</th>\n",
       "      <th>Low</th>\n",
       "      <th>Close</th>\n",
       "      <th>Adj Close</th>\n",
       "      <th>Volume</th>\n",
       "    </tr>\n",
       "  </thead>\n",
       "  <tbody>\n",
       "    <tr>\n",
       "      <th>count</th>\n",
       "      <td>2517.000000</td>\n",
       "      <td>2517.000000</td>\n",
       "      <td>2517.000000</td>\n",
       "      <td>2517.000000</td>\n",
       "      <td>2517.000000</td>\n",
       "      <td>2.517000e+03</td>\n",
       "    </tr>\n",
       "    <tr>\n",
       "      <th>mean</th>\n",
       "      <td>81.227634</td>\n",
       "      <td>82.100457</td>\n",
       "      <td>80.402782</td>\n",
       "      <td>81.292729</td>\n",
       "      <td>79.305289</td>\n",
       "      <td>1.310816e+08</td>\n",
       "    </tr>\n",
       "    <tr>\n",
       "      <th>std</th>\n",
       "      <td>57.473311</td>\n",
       "      <td>58.100144</td>\n",
       "      <td>56.883720</td>\n",
       "      <td>57.525004</td>\n",
       "      <td>58.010991</td>\n",
       "      <td>7.713962e+07</td>\n",
       "    </tr>\n",
       "    <tr>\n",
       "      <th>min</th>\n",
       "      <td>18.501785</td>\n",
       "      <td>18.610357</td>\n",
       "      <td>18.261786</td>\n",
       "      <td>18.498571</td>\n",
       "      <td>16.293825</td>\n",
       "      <td>2.404830e+07</td>\n",
       "    </tr>\n",
       "    <tr>\n",
       "      <th>25%</th>\n",
       "      <td>31.330000</td>\n",
       "      <td>31.537500</td>\n",
       "      <td>31.004999</td>\n",
       "      <td>31.287500</td>\n",
       "      <td>28.214500</td>\n",
       "      <td>7.914430e+07</td>\n",
       "    </tr>\n",
       "    <tr>\n",
       "      <th>50%</th>\n",
       "      <td>50.474998</td>\n",
       "      <td>51.037498</td>\n",
       "      <td>50.119999</td>\n",
       "      <td>50.660000</td>\n",
       "      <td>48.832897</td>\n",
       "      <td>1.095604e+08</td>\n",
       "    </tr>\n",
       "    <tr>\n",
       "      <th>75%</th>\n",
       "      <td>140.309998</td>\n",
       "      <td>142.429993</td>\n",
       "      <td>138.160004</td>\n",
       "      <td>140.520004</td>\n",
       "      <td>139.135056</td>\n",
       "      <td>1.619544e+08</td>\n",
       "    </tr>\n",
       "    <tr>\n",
       "      <th>max</th>\n",
       "      <td>198.020004</td>\n",
       "      <td>199.619995</td>\n",
       "      <td>197.000000</td>\n",
       "      <td>198.110001</td>\n",
       "      <td>197.857529</td>\n",
       "      <td>7.599116e+08</td>\n",
       "    </tr>\n",
       "  </tbody>\n",
       "</table>\n",
       "</div>"
      ],
      "text/plain": [
       "              Open         High          Low        Close    Adj Close  \\\n",
       "count  2517.000000  2517.000000  2517.000000  2517.000000  2517.000000   \n",
       "mean     81.227634    82.100457    80.402782    81.292729    79.305289   \n",
       "std      57.473311    58.100144    56.883720    57.525004    58.010991   \n",
       "min      18.501785    18.610357    18.261786    18.498571    16.293825   \n",
       "25%      31.330000    31.537500    31.004999    31.287500    28.214500   \n",
       "50%      50.474998    51.037498    50.119999    50.660000    48.832897   \n",
       "75%     140.309998   142.429993   138.160004   140.520004   139.135056   \n",
       "max     198.020004   199.619995   197.000000   198.110001   197.857529   \n",
       "\n",
       "             Volume  \n",
       "count  2.517000e+03  \n",
       "mean   1.310816e+08  \n",
       "std    7.713962e+07  \n",
       "min    2.404830e+07  \n",
       "25%    7.914430e+07  \n",
       "50%    1.095604e+08  \n",
       "75%    1.619544e+08  \n",
       "max    7.599116e+08  "
      ]
     },
     "execution_count": 40,
     "metadata": {},
     "output_type": "execute_result"
    }
   ],
   "source": [
    "df.describe()"
   ]
  },
  {
   "cell_type": "code",
   "execution_count": 41,
   "metadata": {},
   "outputs": [],
   "source": [
    "X = df.drop(['Adj Close','Volume','Date'],axis=1)\n",
    "y = df['Adj Close']"
   ]
  },
  {
   "cell_type": "code",
   "execution_count": 42,
   "metadata": {},
   "outputs": [
    {
     "data": {
      "text/html": [
       "<div>\n",
       "<style scoped>\n",
       "    .dataframe tbody tr th:only-of-type {\n",
       "        vertical-align: middle;\n",
       "    }\n",
       "\n",
       "    .dataframe tbody tr th {\n",
       "        vertical-align: top;\n",
       "    }\n",
       "\n",
       "    .dataframe thead th {\n",
       "        text-align: right;\n",
       "    }\n",
       "</style>\n",
       "<table border=\"1\" class=\"dataframe\">\n",
       "  <thead>\n",
       "    <tr style=\"text-align: right;\">\n",
       "      <th></th>\n",
       "      <th>Open</th>\n",
       "      <th>High</th>\n",
       "      <th>Low</th>\n",
       "      <th>Close</th>\n",
       "    </tr>\n",
       "  </thead>\n",
       "  <tbody>\n",
       "    <tr>\n",
       "      <th>0</th>\n",
       "      <td>18.782143</td>\n",
       "      <td>18.998928</td>\n",
       "      <td>18.757143</td>\n",
       "      <td>18.978571</td>\n",
       "    </tr>\n",
       "    <tr>\n",
       "      <th>1</th>\n",
       "      <td>19.009287</td>\n",
       "      <td>19.151428</td>\n",
       "      <td>18.892857</td>\n",
       "      <td>18.973572</td>\n",
       "    </tr>\n",
       "    <tr>\n",
       "      <th>2</th>\n",
       "      <td>18.924643</td>\n",
       "      <td>19.023930</td>\n",
       "      <td>18.833929</td>\n",
       "      <td>18.882143</td>\n",
       "    </tr>\n",
       "    <tr>\n",
       "      <th>3</th>\n",
       "      <td>18.997499</td>\n",
       "      <td>19.062500</td>\n",
       "      <td>18.797501</td>\n",
       "      <td>19.031071</td>\n",
       "    </tr>\n",
       "    <tr>\n",
       "      <th>4</th>\n",
       "      <td>19.229286</td>\n",
       "      <td>19.303572</td>\n",
       "      <td>19.109285</td>\n",
       "      <td>19.256786</td>\n",
       "    </tr>\n",
       "    <tr>\n",
       "      <th>...</th>\n",
       "      <td>...</td>\n",
       "      <td>...</td>\n",
       "      <td>...</td>\n",
       "      <td>...</td>\n",
       "    </tr>\n",
       "    <tr>\n",
       "      <th>2512</th>\n",
       "      <td>172.940002</td>\n",
       "      <td>174.380005</td>\n",
       "      <td>172.050003</td>\n",
       "      <td>172.750000</td>\n",
       "    </tr>\n",
       "    <tr>\n",
       "      <th>2513</th>\n",
       "      <td>173.149994</td>\n",
       "      <td>174.029999</td>\n",
       "      <td>171.009995</td>\n",
       "      <td>173.229996</td>\n",
       "    </tr>\n",
       "    <tr>\n",
       "      <th>2514</th>\n",
       "      <td>172.770004</td>\n",
       "      <td>173.190002</td>\n",
       "      <td>170.759995</td>\n",
       "      <td>171.130005</td>\n",
       "    </tr>\n",
       "    <tr>\n",
       "      <th>2515</th>\n",
       "      <td>172.910004</td>\n",
       "      <td>174.309998</td>\n",
       "      <td>172.050003</td>\n",
       "      <td>173.000000</td>\n",
       "    </tr>\n",
       "    <tr>\n",
       "      <th>2516</th>\n",
       "      <td>171.169998</td>\n",
       "      <td>172.619995</td>\n",
       "      <td>170.289993</td>\n",
       "      <td>172.619995</td>\n",
       "    </tr>\n",
       "  </tbody>\n",
       "</table>\n",
       "<p>2517 rows × 4 columns</p>\n",
       "</div>"
      ],
      "text/plain": [
       "            Open        High         Low       Close\n",
       "0      18.782143   18.998928   18.757143   18.978571\n",
       "1      19.009287   19.151428   18.892857   18.973572\n",
       "2      18.924643   19.023930   18.833929   18.882143\n",
       "3      18.997499   19.062500   18.797501   19.031071\n",
       "4      19.229286   19.303572   19.109285   19.256786\n",
       "...          ...         ...         ...         ...\n",
       "2512  172.940002  174.380005  172.050003  172.750000\n",
       "2513  173.149994  174.029999  171.009995  173.229996\n",
       "2514  172.770004  173.190002  170.759995  171.130005\n",
       "2515  172.910004  174.309998  172.050003  173.000000\n",
       "2516  171.169998  172.619995  170.289993  172.619995\n",
       "\n",
       "[2517 rows x 4 columns]"
      ]
     },
     "execution_count": 42,
     "metadata": {},
     "output_type": "execute_result"
    }
   ],
   "source": [
    "X"
   ]
  },
  {
   "cell_type": "code",
   "execution_count": 43,
   "metadata": {},
   "outputs": [
    {
     "data": {
      "text/plain": [
       "0        16.716616\n",
       "1        16.712214\n",
       "2        16.631680\n",
       "3        16.762859\n",
       "4        16.961672\n",
       "           ...    \n",
       "2512    172.750000\n",
       "2513    173.229996\n",
       "2514    171.130005\n",
       "2515    173.000000\n",
       "2516    172.619995\n",
       "Name: Adj Close, Length: 2517, dtype: float64"
      ]
     },
     "execution_count": 43,
     "metadata": {},
     "output_type": "execute_result"
    }
   ],
   "source": [
    "y"
   ]
  },
  {
   "cell_type": "code",
   "execution_count": 44,
   "metadata": {},
   "outputs": [],
   "source": [
    "from sklearn.model_selection import train_test_split\n",
    "X_train, X_test, y_train, y_test = train_test_split(X, y, test_size=0.2, random_state=42)"
   ]
  },
  {
   "cell_type": "code",
   "execution_count": 45,
   "metadata": {},
   "outputs": [],
   "source": [
    "from sklearn.preprocessing import MinMaxScaler\n",
    "scaler = MinMaxScaler()\n",
    "X_train_scaled = scaler.fit_transform(X_train)\n",
    "X_test_scaled = scaler.transform(X_test)"
   ]
  },
  {
   "cell_type": "code",
   "execution_count": 46,
   "metadata": {},
   "outputs": [
    {
     "data": {
      "text/plain": [
       "array([[0.15356778, 0.15268327, 0.15118879, 0.15108408],\n",
       "       [0.71078145, 0.7077504 , 0.68490226, 0.69027581],\n",
       "       [0.20301958, 0.20567768, 0.20405941, 0.20412914],\n",
       "       ...,\n",
       "       [0.20054072, 0.20697596, 0.20073052, 0.20858322],\n",
       "       [0.17810567, 0.1807895 , 0.18001587, 0.17942303],\n",
       "       [0.12067419, 0.12120704, 0.12181622, 0.12193784]])"
      ]
     },
     "execution_count": 46,
     "metadata": {},
     "output_type": "execute_result"
    }
   ],
   "source": [
    "X_train_scaled"
   ]
  },
  {
   "cell_type": "code",
   "execution_count": 47,
   "metadata": {},
   "outputs": [
    {
     "data": {
      "text/plain": [
       "array([[0.71000159, 0.71482184, 0.7127083 , 0.71995099],\n",
       "       [0.06542909, 0.06460785, 0.06490338, 0.06333911],\n",
       "       [0.20184979, 0.20081606, 0.20225509, 0.2014428 ],\n",
       "       ...,\n",
       "       [0.0238595 , 0.02428442, 0.02349206, 0.02287478],\n",
       "       [0.79444978, 0.79106089, 0.78773424, 0.79567004],\n",
       "       [0.03949858, 0.0404793 , 0.039615  , 0.04038679]])"
      ]
     },
     "execution_count": 47,
     "metadata": {},
     "output_type": "execute_result"
    }
   ],
   "source": [
    "X_test_scaled"
   ]
  },
  {
   "cell_type": "code",
   "execution_count": 48,
   "metadata": {},
   "outputs": [],
   "source": [
    "from sklearn.linear_model import LinearRegression,Lasso, Ridge\n",
    "from sklearn.metrics import mean_squared_error, mean_absolute_error, r2_score\n",
    "\n",
    "model_linear = LinearRegression()\n",
    "model_Lasso = Lasso()\n",
    "model_Ridge = Ridge()"
   ]
  },
  {
   "cell_type": "code",
   "execution_count": 49,
   "metadata": {},
   "outputs": [
    {
     "data": {
      "text/plain": [
       "0.9999202949136113"
      ]
     },
     "execution_count": 49,
     "metadata": {},
     "output_type": "execute_result"
    }
   ],
   "source": [
    "model_linear.fit(X_train_scaled,y_train)\n",
    "Y_pred = model_linear.predict(X_test_scaled)\n",
    "mse = mean_squared_error(y_test, Y_pred)\n",
    "rmse = np.sqrt(mean_squared_error(y_test, Y_pred))\n",
    "mae = mean_absolute_error(y_test, Y_pred)\n",
    "r2 = r2_score(y_test, Y_pred)\n",
    "r2"
   ]
  },
  {
   "cell_type": "code",
   "execution_count": 50,
   "metadata": {},
   "outputs": [
    {
     "name": "stderr",
     "output_type": "stream",
     "text": [
      "d:\\PYTHON\\Ana\\VENV\\envs\\anh_kun\\lib\\site-packages\\sklearn\\linear_model\\_coordinate_descent.py:678: ConvergenceWarning: Objective did not converge. You might want to increase the number of iterations, check the scale of the features or consider increasing regularisation. Duality gap: 1.540e+03, tolerance: 6.787e+02\n",
      "  model = cd_fast.enet_coordinate_descent(\n"
     ]
    },
    {
     "data": {
      "text/plain": [
       "0.9968491344803878"
      ]
     },
     "execution_count": 50,
     "metadata": {},
     "output_type": "execute_result"
    }
   ],
   "source": [
    "model_Lasso.fit(X_train_scaled,y_train)\n",
    "Y_pred = model_Lasso.predict(X_test_scaled)\n",
    "mse = mean_squared_error(y_test, Y_pred)\n",
    "rmse = np.sqrt(mean_squared_error(y_test, Y_pred))\n",
    "mae = mean_absolute_error(y_test, Y_pred)\n",
    "r2 = r2_score(y_test, Y_pred)\n",
    "r2"
   ]
  },
  {
   "cell_type": "code",
   "execution_count": 51,
   "metadata": {},
   "outputs": [
    {
     "data": {
      "text/plain": [
       "0.9997552816405639"
      ]
     },
     "execution_count": 51,
     "metadata": {},
     "output_type": "execute_result"
    }
   ],
   "source": [
    "model_Ridge.fit(X_train_scaled,y_train)\n",
    "Y_pred = model_Ridge.predict(X_test_scaled)\n",
    "mse = mean_squared_error(y_test, Y_pred)\n",
    "rmse = np.sqrt(mean_squared_error(y_test, Y_pred))\n",
    "mae = mean_absolute_error(y_test, Y_pred)\n",
    "r2 = r2_score(y_test, Y_pred)\n",
    "r2"
   ]
  }
 ],
 "metadata": {
  "kernelspec": {
   "display_name": "anh_kun",
   "language": "python",
   "name": "python3"
  },
  "language_info": {
   "codemirror_mode": {
    "name": "ipython",
    "version": 3
   },
   "file_extension": ".py",
   "mimetype": "text/x-python",
   "name": "python",
   "nbconvert_exporter": "python",
   "pygments_lexer": "ipython3",
   "version": "3.9.18"
  }
 },
 "nbformat": 4,
 "nbformat_minor": 2
}
