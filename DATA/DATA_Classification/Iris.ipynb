{
 "cells": [
  {
   "cell_type": "code",
   "execution_count": 28,
   "metadata": {},
   "outputs": [],
   "source": [
    "import pandas as pd \n",
    "import numpy as np"
   ]
  },
  {
   "cell_type": "code",
   "execution_count": 29,
   "metadata": {},
   "outputs": [
    {
     "data": {
      "text/html": [
       "<div>\n",
       "<style scoped>\n",
       "    .dataframe tbody tr th:only-of-type {\n",
       "        vertical-align: middle;\n",
       "    }\n",
       "\n",
       "    .dataframe tbody tr th {\n",
       "        vertical-align: top;\n",
       "    }\n",
       "\n",
       "    .dataframe thead th {\n",
       "        text-align: right;\n",
       "    }\n",
       "</style>\n",
       "<table border=\"1\" class=\"dataframe\">\n",
       "  <thead>\n",
       "    <tr style=\"text-align: right;\">\n",
       "      <th></th>\n",
       "      <th>SepalLength</th>\n",
       "      <th>SepalWidth</th>\n",
       "      <th>PetalLength</th>\n",
       "      <th>PetalWidth</th>\n",
       "      <th>Name</th>\n",
       "    </tr>\n",
       "  </thead>\n",
       "  <tbody>\n",
       "    <tr>\n",
       "      <th>0</th>\n",
       "      <td>5.1</td>\n",
       "      <td>3.5</td>\n",
       "      <td>1.4</td>\n",
       "      <td>0.2</td>\n",
       "      <td>Iris-setosa</td>\n",
       "    </tr>\n",
       "    <tr>\n",
       "      <th>1</th>\n",
       "      <td>4.9</td>\n",
       "      <td>3.0</td>\n",
       "      <td>1.4</td>\n",
       "      <td>0.2</td>\n",
       "      <td>Iris-setosa</td>\n",
       "    </tr>\n",
       "    <tr>\n",
       "      <th>2</th>\n",
       "      <td>4.7</td>\n",
       "      <td>3.2</td>\n",
       "      <td>1.3</td>\n",
       "      <td>0.2</td>\n",
       "      <td>Iris-setosa</td>\n",
       "    </tr>\n",
       "    <tr>\n",
       "      <th>3</th>\n",
       "      <td>4.6</td>\n",
       "      <td>3.1</td>\n",
       "      <td>1.5</td>\n",
       "      <td>0.2</td>\n",
       "      <td>Iris-setosa</td>\n",
       "    </tr>\n",
       "    <tr>\n",
       "      <th>4</th>\n",
       "      <td>5.0</td>\n",
       "      <td>3.6</td>\n",
       "      <td>1.4</td>\n",
       "      <td>0.2</td>\n",
       "      <td>Iris-setosa</td>\n",
       "    </tr>\n",
       "    <tr>\n",
       "      <th>...</th>\n",
       "      <td>...</td>\n",
       "      <td>...</td>\n",
       "      <td>...</td>\n",
       "      <td>...</td>\n",
       "      <td>...</td>\n",
       "    </tr>\n",
       "    <tr>\n",
       "      <th>145</th>\n",
       "      <td>6.7</td>\n",
       "      <td>3.0</td>\n",
       "      <td>5.2</td>\n",
       "      <td>2.3</td>\n",
       "      <td>Iris-virginica</td>\n",
       "    </tr>\n",
       "    <tr>\n",
       "      <th>146</th>\n",
       "      <td>6.3</td>\n",
       "      <td>2.5</td>\n",
       "      <td>5.0</td>\n",
       "      <td>1.9</td>\n",
       "      <td>Iris-virginica</td>\n",
       "    </tr>\n",
       "    <tr>\n",
       "      <th>147</th>\n",
       "      <td>6.5</td>\n",
       "      <td>3.0</td>\n",
       "      <td>5.2</td>\n",
       "      <td>2.0</td>\n",
       "      <td>Iris-virginica</td>\n",
       "    </tr>\n",
       "    <tr>\n",
       "      <th>148</th>\n",
       "      <td>6.2</td>\n",
       "      <td>3.4</td>\n",
       "      <td>5.4</td>\n",
       "      <td>2.3</td>\n",
       "      <td>Iris-virginica</td>\n",
       "    </tr>\n",
       "    <tr>\n",
       "      <th>149</th>\n",
       "      <td>5.9</td>\n",
       "      <td>3.0</td>\n",
       "      <td>5.1</td>\n",
       "      <td>1.8</td>\n",
       "      <td>Iris-virginica</td>\n",
       "    </tr>\n",
       "  </tbody>\n",
       "</table>\n",
       "<p>150 rows × 5 columns</p>\n",
       "</div>"
      ],
      "text/plain": [
       "     SepalLength  SepalWidth  PetalLength  PetalWidth            Name\n",
       "0            5.1         3.5          1.4         0.2     Iris-setosa\n",
       "1            4.9         3.0          1.4         0.2     Iris-setosa\n",
       "2            4.7         3.2          1.3         0.2     Iris-setosa\n",
       "3            4.6         3.1          1.5         0.2     Iris-setosa\n",
       "4            5.0         3.6          1.4         0.2     Iris-setosa\n",
       "..           ...         ...          ...         ...             ...\n",
       "145          6.7         3.0          5.2         2.3  Iris-virginica\n",
       "146          6.3         2.5          5.0         1.9  Iris-virginica\n",
       "147          6.5         3.0          5.2         2.0  Iris-virginica\n",
       "148          6.2         3.4          5.4         2.3  Iris-virginica\n",
       "149          5.9         3.0          5.1         1.8  Iris-virginica\n",
       "\n",
       "[150 rows x 5 columns]"
      ]
     },
     "execution_count": 29,
     "metadata": {},
     "output_type": "execute_result"
    }
   ],
   "source": [
    "df = pd.read_csv('iris.csv')\n",
    "df"
   ]
  },
  {
   "cell_type": "code",
   "execution_count": 30,
   "metadata": {},
   "outputs": [
    {
     "name": "stdout",
     "output_type": "stream",
     "text": [
      "<class 'pandas.core.frame.DataFrame'>\n",
      "RangeIndex: 150 entries, 0 to 149\n",
      "Data columns (total 5 columns):\n",
      " #   Column       Non-Null Count  Dtype  \n",
      "---  ------       --------------  -----  \n",
      " 0   SepalLength  150 non-null    float64\n",
      " 1   SepalWidth   150 non-null    float64\n",
      " 2   PetalLength  150 non-null    float64\n",
      " 3   PetalWidth   150 non-null    float64\n",
      " 4   Name         150 non-null    object \n",
      "dtypes: float64(4), object(1)\n",
      "memory usage: 6.0+ KB\n"
     ]
    }
   ],
   "source": [
    "df.info()"
   ]
  },
  {
   "cell_type": "code",
   "execution_count": 31,
   "metadata": {},
   "outputs": [
    {
     "data": {
      "text/html": [
       "<div>\n",
       "<style scoped>\n",
       "    .dataframe tbody tr th:only-of-type {\n",
       "        vertical-align: middle;\n",
       "    }\n",
       "\n",
       "    .dataframe tbody tr th {\n",
       "        vertical-align: top;\n",
       "    }\n",
       "\n",
       "    .dataframe thead th {\n",
       "        text-align: right;\n",
       "    }\n",
       "</style>\n",
       "<table border=\"1\" class=\"dataframe\">\n",
       "  <thead>\n",
       "    <tr style=\"text-align: right;\">\n",
       "      <th></th>\n",
       "      <th>SepalLength</th>\n",
       "      <th>SepalWidth</th>\n",
       "      <th>PetalLength</th>\n",
       "      <th>PetalWidth</th>\n",
       "    </tr>\n",
       "  </thead>\n",
       "  <tbody>\n",
       "    <tr>\n",
       "      <th>count</th>\n",
       "      <td>150.000000</td>\n",
       "      <td>150.000000</td>\n",
       "      <td>150.000000</td>\n",
       "      <td>150.000000</td>\n",
       "    </tr>\n",
       "    <tr>\n",
       "      <th>mean</th>\n",
       "      <td>5.843333</td>\n",
       "      <td>3.054000</td>\n",
       "      <td>3.758667</td>\n",
       "      <td>1.198667</td>\n",
       "    </tr>\n",
       "    <tr>\n",
       "      <th>std</th>\n",
       "      <td>0.828066</td>\n",
       "      <td>0.433594</td>\n",
       "      <td>1.764420</td>\n",
       "      <td>0.763161</td>\n",
       "    </tr>\n",
       "    <tr>\n",
       "      <th>min</th>\n",
       "      <td>4.300000</td>\n",
       "      <td>2.000000</td>\n",
       "      <td>1.000000</td>\n",
       "      <td>0.100000</td>\n",
       "    </tr>\n",
       "    <tr>\n",
       "      <th>25%</th>\n",
       "      <td>5.100000</td>\n",
       "      <td>2.800000</td>\n",
       "      <td>1.600000</td>\n",
       "      <td>0.300000</td>\n",
       "    </tr>\n",
       "    <tr>\n",
       "      <th>50%</th>\n",
       "      <td>5.800000</td>\n",
       "      <td>3.000000</td>\n",
       "      <td>4.350000</td>\n",
       "      <td>1.300000</td>\n",
       "    </tr>\n",
       "    <tr>\n",
       "      <th>75%</th>\n",
       "      <td>6.400000</td>\n",
       "      <td>3.300000</td>\n",
       "      <td>5.100000</td>\n",
       "      <td>1.800000</td>\n",
       "    </tr>\n",
       "    <tr>\n",
       "      <th>max</th>\n",
       "      <td>7.900000</td>\n",
       "      <td>4.400000</td>\n",
       "      <td>6.900000</td>\n",
       "      <td>2.500000</td>\n",
       "    </tr>\n",
       "  </tbody>\n",
       "</table>\n",
       "</div>"
      ],
      "text/plain": [
       "       SepalLength  SepalWidth  PetalLength  PetalWidth\n",
       "count   150.000000  150.000000   150.000000  150.000000\n",
       "mean      5.843333    3.054000     3.758667    1.198667\n",
       "std       0.828066    0.433594     1.764420    0.763161\n",
       "min       4.300000    2.000000     1.000000    0.100000\n",
       "25%       5.100000    2.800000     1.600000    0.300000\n",
       "50%       5.800000    3.000000     4.350000    1.300000\n",
       "75%       6.400000    3.300000     5.100000    1.800000\n",
       "max       7.900000    4.400000     6.900000    2.500000"
      ]
     },
     "execution_count": 31,
     "metadata": {},
     "output_type": "execute_result"
    }
   ],
   "source": [
    "df.describe()"
   ]
  },
  {
   "cell_type": "code",
   "execution_count": 32,
   "metadata": {},
   "outputs": [
    {
     "data": {
      "text/plain": [
       "SepalLength    0\n",
       "SepalWidth     0\n",
       "PetalLength    0\n",
       "PetalWidth     0\n",
       "Name           0\n",
       "dtype: int64"
      ]
     },
     "execution_count": 32,
     "metadata": {},
     "output_type": "execute_result"
    }
   ],
   "source": [
    "count_null = df.isnull().sum()\n",
    "count_null"
   ]
  },
  {
   "cell_type": "code",
   "execution_count": 33,
   "metadata": {},
   "outputs": [
    {
     "data": {
      "text/plain": [
       "Name\n",
       "Iris-setosa        50\n",
       "Iris-versicolor    50\n",
       "Iris-virginica     50\n",
       "Name: count, dtype: int64"
      ]
     },
     "execution_count": 33,
     "metadata": {},
     "output_type": "execute_result"
    }
   ],
   "source": [
    "df['Name'].value_counts()"
   ]
  },
  {
   "cell_type": "code",
   "execution_count": 34,
   "metadata": {},
   "outputs": [],
   "source": [
    "X = df.drop(['Name'],axis=1)\n",
    "y = df['Name']"
   ]
  },
  {
   "cell_type": "code",
   "execution_count": 35,
   "metadata": {},
   "outputs": [
    {
     "data": {
      "text/html": [
       "<div>\n",
       "<style scoped>\n",
       "    .dataframe tbody tr th:only-of-type {\n",
       "        vertical-align: middle;\n",
       "    }\n",
       "\n",
       "    .dataframe tbody tr th {\n",
       "        vertical-align: top;\n",
       "    }\n",
       "\n",
       "    .dataframe thead th {\n",
       "        text-align: right;\n",
       "    }\n",
       "</style>\n",
       "<table border=\"1\" class=\"dataframe\">\n",
       "  <thead>\n",
       "    <tr style=\"text-align: right;\">\n",
       "      <th></th>\n",
       "      <th>SepalLength</th>\n",
       "      <th>SepalWidth</th>\n",
       "      <th>PetalLength</th>\n",
       "      <th>PetalWidth</th>\n",
       "    </tr>\n",
       "  </thead>\n",
       "  <tbody>\n",
       "    <tr>\n",
       "      <th>0</th>\n",
       "      <td>5.1</td>\n",
       "      <td>3.5</td>\n",
       "      <td>1.4</td>\n",
       "      <td>0.2</td>\n",
       "    </tr>\n",
       "    <tr>\n",
       "      <th>1</th>\n",
       "      <td>4.9</td>\n",
       "      <td>3.0</td>\n",
       "      <td>1.4</td>\n",
       "      <td>0.2</td>\n",
       "    </tr>\n",
       "    <tr>\n",
       "      <th>2</th>\n",
       "      <td>4.7</td>\n",
       "      <td>3.2</td>\n",
       "      <td>1.3</td>\n",
       "      <td>0.2</td>\n",
       "    </tr>\n",
       "    <tr>\n",
       "      <th>3</th>\n",
       "      <td>4.6</td>\n",
       "      <td>3.1</td>\n",
       "      <td>1.5</td>\n",
       "      <td>0.2</td>\n",
       "    </tr>\n",
       "    <tr>\n",
       "      <th>4</th>\n",
       "      <td>5.0</td>\n",
       "      <td>3.6</td>\n",
       "      <td>1.4</td>\n",
       "      <td>0.2</td>\n",
       "    </tr>\n",
       "    <tr>\n",
       "      <th>...</th>\n",
       "      <td>...</td>\n",
       "      <td>...</td>\n",
       "      <td>...</td>\n",
       "      <td>...</td>\n",
       "    </tr>\n",
       "    <tr>\n",
       "      <th>145</th>\n",
       "      <td>6.7</td>\n",
       "      <td>3.0</td>\n",
       "      <td>5.2</td>\n",
       "      <td>2.3</td>\n",
       "    </tr>\n",
       "    <tr>\n",
       "      <th>146</th>\n",
       "      <td>6.3</td>\n",
       "      <td>2.5</td>\n",
       "      <td>5.0</td>\n",
       "      <td>1.9</td>\n",
       "    </tr>\n",
       "    <tr>\n",
       "      <th>147</th>\n",
       "      <td>6.5</td>\n",
       "      <td>3.0</td>\n",
       "      <td>5.2</td>\n",
       "      <td>2.0</td>\n",
       "    </tr>\n",
       "    <tr>\n",
       "      <th>148</th>\n",
       "      <td>6.2</td>\n",
       "      <td>3.4</td>\n",
       "      <td>5.4</td>\n",
       "      <td>2.3</td>\n",
       "    </tr>\n",
       "    <tr>\n",
       "      <th>149</th>\n",
       "      <td>5.9</td>\n",
       "      <td>3.0</td>\n",
       "      <td>5.1</td>\n",
       "      <td>1.8</td>\n",
       "    </tr>\n",
       "  </tbody>\n",
       "</table>\n",
       "<p>150 rows × 4 columns</p>\n",
       "</div>"
      ],
      "text/plain": [
       "     SepalLength  SepalWidth  PetalLength  PetalWidth\n",
       "0            5.1         3.5          1.4         0.2\n",
       "1            4.9         3.0          1.4         0.2\n",
       "2            4.7         3.2          1.3         0.2\n",
       "3            4.6         3.1          1.5         0.2\n",
       "4            5.0         3.6          1.4         0.2\n",
       "..           ...         ...          ...         ...\n",
       "145          6.7         3.0          5.2         2.3\n",
       "146          6.3         2.5          5.0         1.9\n",
       "147          6.5         3.0          5.2         2.0\n",
       "148          6.2         3.4          5.4         2.3\n",
       "149          5.9         3.0          5.1         1.8\n",
       "\n",
       "[150 rows x 4 columns]"
      ]
     },
     "execution_count": 35,
     "metadata": {},
     "output_type": "execute_result"
    }
   ],
   "source": [
    "X"
   ]
  },
  {
   "cell_type": "code",
   "execution_count": 36,
   "metadata": {},
   "outputs": [
    {
     "data": {
      "text/plain": [
       "0         Iris-setosa\n",
       "1         Iris-setosa\n",
       "2         Iris-setosa\n",
       "3         Iris-setosa\n",
       "4         Iris-setosa\n",
       "            ...      \n",
       "145    Iris-virginica\n",
       "146    Iris-virginica\n",
       "147    Iris-virginica\n",
       "148    Iris-virginica\n",
       "149    Iris-virginica\n",
       "Name: Name, Length: 150, dtype: object"
      ]
     },
     "execution_count": 36,
     "metadata": {},
     "output_type": "execute_result"
    }
   ],
   "source": [
    "y"
   ]
  },
  {
   "cell_type": "code",
   "execution_count": 37,
   "metadata": {},
   "outputs": [],
   "source": [
    "from sklearn.model_selection import train_test_split\n",
    "X_train, X_test, y_train, y_test = train_test_split(X, y, test_size=0.2, random_state=42)\n"
   ]
  },
  {
   "cell_type": "code",
   "execution_count": 38,
   "metadata": {},
   "outputs": [],
   "source": [
    "from sklearn.preprocessing import MinMaxScaler\n",
    "scaler = MinMaxScaler()\n",
    "X_train_scaled = scaler.fit_transform(X_train)\n",
    "X_test_scaled = scaler.transform(X_test)"
   ]
  },
  {
   "cell_type": "code",
   "execution_count": 39,
   "metadata": {},
   "outputs": [
    {
     "data": {
      "text/plain": [
       "array([[0.08823529, 0.66666667, 0.        , 0.04166667],\n",
       "       [0.41176471, 1.        , 0.0877193 , 0.125     ],\n",
       "       [0.70588235, 0.45833333, 0.59649123, 0.54166667],\n",
       "       [0.14705882, 0.58333333, 0.10526316, 0.04166667],\n",
       "       [0.02941176, 0.5       , 0.05263158, 0.04166667],\n",
       "       [0.58823529, 0.20833333, 0.70175439, 0.75      ],\n",
       "       [0.61764706, 0.5       , 0.61403509, 0.58333333],\n",
       "       [0.26470588, 0.625     , 0.0877193 , 0.04166667],\n",
       "       [0.20588235, 0.66666667, 0.07017544, 0.04166667],\n",
       "       [0.26470588, 0.875     , 0.0877193 , 0.        ],\n",
       "       [0.44117647, 0.29166667, 0.71929825, 0.75      ],\n",
       "       [0.5       , 0.58333333, 0.61403509, 0.625     ],\n",
       "       [0.70588235, 0.45833333, 0.64912281, 0.58333333],\n",
       "       [0.32352941, 0.79166667, 0.05263158, 0.125     ],\n",
       "       [0.32352941, 0.70833333, 0.0877193 , 0.04166667],\n",
       "       [0.35294118, 0.16666667, 0.47368421, 0.375     ],\n",
       "       [0.58823529, 0.33333333, 0.71929825, 0.58333333],\n",
       "       [0.61764706, 0.45833333, 0.78947368, 0.70833333],\n",
       "       [0.67647059, 0.41666667, 0.59649123, 0.54166667],\n",
       "       [0.85294118, 0.66666667, 0.89473684, 1.        ],\n",
       "       [0.41176471, 0.375     , 0.56140351, 0.5       ],\n",
       "       [0.97058824, 0.41666667, 0.98245614, 0.83333333],\n",
       "       [0.38235294, 0.41666667, 0.61403509, 0.58333333],\n",
       "       [0.23529412, 0.625     , 0.07017544, 0.04166667],\n",
       "       [1.        , 0.33333333, 1.        , 0.79166667],\n",
       "       [0.44117647, 0.29166667, 0.54385965, 0.375     ],\n",
       "       [0.26470588, 0.58333333, 0.07017544, 0.04166667],\n",
       "       [0.20588235, 0.625     , 0.05263158, 0.08333333],\n",
       "       [0.23529412, 0.75      , 0.15789474, 0.125     ],\n",
       "       [0.20588235, 0.        , 0.43859649, 0.375     ],\n",
       "       [0.58823529, 0.29166667, 0.68421053, 0.70833333],\n",
       "       [0.14705882, 0.58333333, 0.15789474, 0.04166667],\n",
       "       [0.20588235, 0.41666667, 0.10526316, 0.04166667],\n",
       "       [0.23529412, 0.54166667, 0.12280702, 0.16666667],\n",
       "       [0.38235294, 0.29166667, 0.56140351, 0.5       ],\n",
       "       [0.23529412, 0.58333333, 0.0877193 , 0.04166667],\n",
       "       [0.41176471, 0.41666667, 0.56140351, 0.45833333],\n",
       "       [1.        , 0.75      , 1.        , 0.875     ],\n",
       "       [0.08823529, 0.5       , 0.07017544, 0.04166667],\n",
       "       [0.55882353, 0.375     , 0.57894737, 0.5       ],\n",
       "       [0.41176471, 0.20833333, 0.70175439, 0.79166667],\n",
       "       [0.35294118, 0.91666667, 0.07017544, 0.04166667],\n",
       "       [0.5       , 0.41666667, 0.66666667, 0.70833333],\n",
       "       [0.44117647, 0.29166667, 0.71929825, 0.75      ],\n",
       "       [0.5       , 0.08333333, 0.52631579, 0.375     ],\n",
       "       [0.32352941, 0.41666667, 0.61403509, 0.58333333],\n",
       "       [0.55882353, 0.58333333, 0.77192982, 0.91666667],\n",
       "       [0.35294118, 0.125     , 0.52631579, 0.5       ],\n",
       "       [0.32352941, 0.79166667, 0.12280702, 0.125     ],\n",
       "       [0.20588235, 0.125     , 0.40350877, 0.375     ],\n",
       "       [0.61764706, 0.29166667, 0.75438596, 0.75      ],\n",
       "       [0.20588235, 0.54166667, 0.07017544, 0.04166667],\n",
       "       [0.20588235, 0.5       , 0.03508772, 0.04166667],\n",
       "       [0.35294118, 0.16666667, 0.49122807, 0.41666667],\n",
       "       [0.70588235, 0.41666667, 0.70175439, 0.66666667],\n",
       "       [0.17647059, 0.45833333, 0.0877193 , 0.        ],\n",
       "       [0.44117647, 0.33333333, 0.71929825, 0.95833333],\n",
       "       [0.20588235, 0.58333333, 0.0877193 , 0.04166667],\n",
       "       [0.20588235, 0.625     , 0.10526316, 0.20833333],\n",
       "       [0.47058824, 0.5       , 0.66666667, 0.70833333],\n",
       "       [0.23529412, 0.20833333, 0.35087719, 0.41666667],\n",
       "       [0.76470588, 0.5       , 0.8245614 , 0.91666667],\n",
       "       [0.5       , 0.29166667, 0.71929825, 0.625     ],\n",
       "       [0.52941176, 0.25      , 0.80701754, 0.54166667],\n",
       "       [1.        , 0.41666667, 0.89473684, 0.91666667],\n",
       "       [0.35294118, 0.20833333, 0.52631579, 0.5       ],\n",
       "       [0.02941176, 0.375     , 0.07017544, 0.04166667],\n",
       "       [0.        , 0.41666667, 0.01754386, 0.        ],\n",
       "       [0.5       , 0.08333333, 0.70175439, 0.58333333],\n",
       "       [0.85294118, 0.5       , 0.87719298, 0.70833333],\n",
       "       [0.08823529, 0.45833333, 0.0877193 , 0.04166667],\n",
       "       [0.23529412, 0.625     , 0.07017544, 0.08333333],\n",
       "       [0.02941176, 0.41666667, 0.05263158, 0.04166667],\n",
       "       [0.58823529, 0.20833333, 0.68421053, 0.58333333],\n",
       "       [0.58823529, 0.58333333, 0.80701754, 0.95833333],\n",
       "       [0.08823529, 0.58333333, 0.07017544, 0.08333333],\n",
       "       [0.73529412, 0.41666667, 0.78947368, 0.83333333],\n",
       "       [0.58823529, 0.54166667, 0.87719298, 1.        ],\n",
       "       [0.11764706, 0.5       , 0.05263158, 0.04166667],\n",
       "       [0.52941176, 0.375     , 0.64912281, 0.54166667],\n",
       "       [0.64705882, 0.33333333, 0.63157895, 0.58333333],\n",
       "       [0.55882353, 0.33333333, 0.66666667, 0.70833333],\n",
       "       [0.79411765, 0.5       , 0.64912281, 0.54166667],\n",
       "       [0.61764706, 0.5       , 0.75438596, 0.91666667],\n",
       "       [0.23529412, 0.75      , 0.10526316, 0.04166667],\n",
       "       [0.76470588, 0.45833333, 0.77192982, 0.83333333],\n",
       "       [0.47058824, 0.41666667, 0.56140351, 0.58333333],\n",
       "       [0.64705882, 0.41666667, 0.73684211, 0.79166667],\n",
       "       [0.41176471, 0.25      , 0.43859649, 0.375     ],\n",
       "       [0.26470588, 0.29166667, 0.50877193, 0.54166667],\n",
       "       [0.52941176, 0.41666667, 0.63157895, 0.54166667],\n",
       "       [0.05882353, 0.125     , 0.05263158, 0.08333333],\n",
       "       [0.67647059, 0.375     , 0.63157895, 0.5       ],\n",
       "       [0.35294118, 0.25      , 0.59649123, 0.45833333],\n",
       "       [0.29411765, 0.70833333, 0.0877193 , 0.04166667],\n",
       "       [0.38235294, 0.41666667, 0.54385965, 0.5       ],\n",
       "       [0.88235294, 0.375     , 0.92982456, 0.70833333],\n",
       "       [0.70588235, 0.54166667, 0.8245614 , 0.83333333],\n",
       "       [0.23529412, 0.70833333, 0.0877193 , 0.125     ],\n",
       "       [0.17647059, 0.16666667, 0.40350877, 0.375     ],\n",
       "       [0.70588235, 0.54166667, 0.8245614 , 1.        ],\n",
       "       [0.85294118, 0.41666667, 0.84210526, 0.625     ],\n",
       "       [0.17647059, 0.45833333, 0.0877193 , 0.        ],\n",
       "       [0.70588235, 0.45833333, 0.80701754, 0.95833333],\n",
       "       [0.17647059, 0.41666667, 0.07017544, 0.04166667],\n",
       "       [0.76470588, 0.45833333, 0.68421053, 0.58333333],\n",
       "       [0.91176471, 0.33333333, 0.89473684, 0.75      ],\n",
       "       [0.58823529, 0.375     , 0.80701754, 0.70833333],\n",
       "       [0.41176471, 0.33333333, 0.54385965, 0.5       ],\n",
       "       [0.64705882, 0.41666667, 0.78947368, 0.70833333],\n",
       "       [0.58823529, 0.125     , 0.59649123, 0.5       ],\n",
       "       [0.61764706, 0.375     , 0.57894737, 0.5       ],\n",
       "       [0.38235294, 0.33333333, 0.68421053, 0.79166667],\n",
       "       [0.47058824, 0.41666667, 0.71929825, 0.70833333],\n",
       "       [0.32352941, 0.58333333, 0.12280702, 0.04166667],\n",
       "       [0.52941176, 0.33333333, 0.52631579, 0.5       ],\n",
       "       [0.17647059, 0.20833333, 0.61403509, 0.66666667],\n",
       "       [0.44117647, 0.83333333, 0.03508772, 0.04166667],\n",
       "       [0.44117647, 0.25      , 0.52631579, 0.45833333],\n",
       "       [0.82352941, 0.41666667, 0.85964912, 0.83333333]])"
      ]
     },
     "execution_count": 39,
     "metadata": {},
     "output_type": "execute_result"
    }
   ],
   "source": [
    "X_train_scaled"
   ]
  },
  {
   "cell_type": "code",
   "execution_count": 40,
   "metadata": {},
   "outputs": [
    {
     "data": {
      "text/plain": [
       "array([[0.52941176, 0.33333333, 0.64912281, 0.45833333],\n",
       "       [0.41176471, 0.75      , 0.12280702, 0.08333333],\n",
       "       [1.        , 0.25      , 1.03508772, 0.91666667],\n",
       "       [0.5       , 0.375     , 0.61403509, 0.58333333],\n",
       "       [0.73529412, 0.33333333, 0.66666667, 0.54166667],\n",
       "       [0.32352941, 0.58333333, 0.0877193 , 0.125     ],\n",
       "       [0.38235294, 0.375     , 0.45614035, 0.5       ],\n",
       "       [0.76470588, 0.45833333, 0.71929825, 0.91666667],\n",
       "       [0.55882353, 0.08333333, 0.61403509, 0.58333333],\n",
       "       [0.44117647, 0.29166667, 0.50877193, 0.45833333],\n",
       "       [0.64705882, 0.5       , 0.71929825, 0.79166667],\n",
       "       [0.14705882, 0.41666667, 0.07017544, 0.        ],\n",
       "       [0.35294118, 0.625     , 0.05263158, 0.04166667],\n",
       "       [0.17647059, 0.45833333, 0.0877193 , 0.        ],\n",
       "       [0.23529412, 0.75      , 0.0877193 , 0.08333333],\n",
       "       [0.58823529, 0.54166667, 0.64912281, 0.625     ],\n",
       "       [0.64705882, 0.41666667, 0.84210526, 0.875     ],\n",
       "       [0.38235294, 0.20833333, 0.50877193, 0.41666667],\n",
       "       [0.41176471, 0.33333333, 0.61403509, 0.5       ],\n",
       "       [0.61764706, 0.33333333, 0.80701754, 0.875     ],\n",
       "       [0.11764706, 0.5       , 0.10526316, 0.04166667],\n",
       "       [0.52941176, 0.41666667, 0.68421053, 0.70833333],\n",
       "       [0.20588235, 0.58333333, 0.10526316, 0.125     ],\n",
       "       [0.61764706, 0.33333333, 0.80701754, 0.83333333],\n",
       "       [1.05882353, 0.75      , 0.94736842, 0.79166667],\n",
       "       [0.70588235, 0.41666667, 0.73684211, 0.91666667],\n",
       "       [0.70588235, 0.20833333, 0.84210526, 0.70833333],\n",
       "       [0.73529412, 0.5       , 0.85964912, 0.91666667],\n",
       "       [0.14705882, 0.41666667, 0.07017544, 0.08333333],\n",
       "       [0.14705882, 0.45833333, 0.10526316, 0.04166667]])"
      ]
     },
     "execution_count": 40,
     "metadata": {},
     "output_type": "execute_result"
    }
   ],
   "source": [
    "X_test_scaled"
   ]
  },
  {
   "cell_type": "code",
   "execution_count": 41,
   "metadata": {},
   "outputs": [],
   "source": [
    "from sklearn.tree import DecisionTreeClassifier\n",
    "from sklearn.naive_bayes import GaussianNB\n",
    "from sklearn.linear_model import LogisticRegression\n",
    "from sklearn.svm import SVC\n",
    "from sklearn.metrics import mean_squared_error, mean_absolute_error, r2_score, accuracy_score, precision_score, recall_score, f1_score, classification_report\n",
    "\n",
    "model_Decision_Tree = DecisionTreeClassifier()\n",
    "model_NB = GaussianNB()\n",
    "model_Logistic = LogisticRegression()\n",
    "model_SVM = SVC()"
   ]
  },
  {
   "cell_type": "code",
   "execution_count": 42,
   "metadata": {},
   "outputs": [
    {
     "name": "stdout",
     "output_type": "stream",
     "text": [
      "                 precision    recall  f1-score   support\n",
      "\n",
      "    Iris-setosa       1.00      1.00      1.00        10\n",
      "Iris-versicolor       1.00      1.00      1.00         9\n",
      " Iris-virginica       1.00      1.00      1.00        11\n",
      "\n",
      "       accuracy                           1.00        30\n",
      "      macro avg       1.00      1.00      1.00        30\n",
      "   weighted avg       1.00      1.00      1.00        30\n",
      "\n"
     ]
    }
   ],
   "source": [
    "model_Decision_Tree.fit(X_train_scaled, y_train)\n",
    "Y_pred = model_Decision_Tree.predict(X_test_scaled)\n",
    "accuracy = accuracy_score(y_test, Y_pred)\n",
    "precision = precision_score(y_test, Y_pred, average='weighted')\n",
    "recall = recall_score(y_test, Y_pred, average='weighted')\n",
    "f1 = f1_score(y_test, Y_pred, average='weighted')\n",
    "classification_rep = classification_report(y_test, Y_pred)\n",
    "\n",
    "print(classification_rep)"
   ]
  },
  {
   "cell_type": "code",
   "execution_count": 43,
   "metadata": {},
   "outputs": [
    {
     "name": "stdout",
     "output_type": "stream",
     "text": [
      "                 precision    recall  f1-score   support\n",
      "\n",
      "    Iris-setosa       1.00      1.00      1.00        10\n",
      "Iris-versicolor       1.00      1.00      1.00         9\n",
      " Iris-virginica       1.00      1.00      1.00        11\n",
      "\n",
      "       accuracy                           1.00        30\n",
      "      macro avg       1.00      1.00      1.00        30\n",
      "   weighted avg       1.00      1.00      1.00        30\n",
      "\n"
     ]
    }
   ],
   "source": [
    "model_NB.fit(X_train_scaled, y_train)\n",
    "Y_pred = model_NB.predict(X_test_scaled)\n",
    "accuracy = accuracy_score(y_test, Y_pred)\n",
    "precision = precision_score(y_test, Y_pred, average='weighted')\n",
    "recall = recall_score(y_test, Y_pred, average='weighted')\n",
    "f1 = f1_score(y_test, Y_pred, average='weighted')\n",
    "classification_rep = classification_report(y_test, Y_pred)\n",
    "\n",
    "print(classification_rep)"
   ]
  },
  {
   "cell_type": "code",
   "execution_count": 44,
   "metadata": {},
   "outputs": [
    {
     "name": "stdout",
     "output_type": "stream",
     "text": [
      "                 precision    recall  f1-score   support\n",
      "\n",
      "    Iris-setosa       1.00      1.00      1.00        10\n",
      "Iris-versicolor       1.00      0.89      0.94         9\n",
      " Iris-virginica       0.92      1.00      0.96        11\n",
      "\n",
      "       accuracy                           0.97        30\n",
      "      macro avg       0.97      0.96      0.97        30\n",
      "   weighted avg       0.97      0.97      0.97        30\n",
      "\n"
     ]
    }
   ],
   "source": [
    "model_Logistic.fit(X_train_scaled, y_train)\n",
    "Y_pred = model_Logistic.predict(X_test_scaled)\n",
    "accuracy = accuracy_score(y_test, Y_pred)\n",
    "precision = precision_score(y_test, Y_pred, average='weighted')\n",
    "recall = recall_score(y_test, Y_pred, average='weighted')\n",
    "f1 = f1_score(y_test, Y_pred, average='weighted')\n",
    "classification_rep = classification_report(y_test, Y_pred)\n",
    "\n",
    "print(classification_rep)"
   ]
  },
  {
   "cell_type": "code",
   "execution_count": 45,
   "metadata": {},
   "outputs": [
    {
     "name": "stdout",
     "output_type": "stream",
     "text": [
      "                 precision    recall  f1-score   support\n",
      "\n",
      "    Iris-setosa       1.00      1.00      1.00        10\n",
      "Iris-versicolor       1.00      1.00      1.00         9\n",
      " Iris-virginica       1.00      1.00      1.00        11\n",
      "\n",
      "       accuracy                           1.00        30\n",
      "      macro avg       1.00      1.00      1.00        30\n",
      "   weighted avg       1.00      1.00      1.00        30\n",
      "\n"
     ]
    }
   ],
   "source": [
    "model_SVM.fit(X_train_scaled, y_train)\n",
    "Y_pred = model_SVM.predict(X_test_scaled)\n",
    "accuracy = accuracy_score(y_test, Y_pred)\n",
    "precision = precision_score(y_test, Y_pred, average='weighted')\n",
    "recall = recall_score(y_test, Y_pred, average='weighted')\n",
    "f1 = f1_score(y_test, Y_pred, average='weighted')\n",
    "classification_rep = classification_report(y_test, Y_pred)\n",
    "\n",
    "print(classification_rep)"
   ]
  }
 ],
 "metadata": {
  "kernelspec": {
   "display_name": "anh_kun",
   "language": "python",
   "name": "python3"
  },
  "language_info": {
   "codemirror_mode": {
    "name": "ipython",
    "version": 3
   },
   "file_extension": ".py",
   "mimetype": "text/x-python",
   "name": "python",
   "nbconvert_exporter": "python",
   "pygments_lexer": "ipython3",
   "version": "3.9.18"
  }
 },
 "nbformat": 4,
 "nbformat_minor": 2
}
